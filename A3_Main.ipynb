{
 "cells": [
  {
   "cell_type": "markdown",
   "metadata": {},
   "source": [
    "## Perguntas"
   ]
  },
  {
   "cell_type": "markdown",
   "metadata": {},
   "source": [
    "1) Carregar e ler arquivos .csv, xlsx ou de um banco de dados;\n",
    "2) Avaliar a necessidade da transformação da variável em outra escala (agrupar idade por faixas, por exemplo);\n",
    "3) Realizar a codificação das variáveis categóricas de acordo com os valores das variáveis (label encoder, one hot encoder ou target encoder);\n",
    "4) Normalizar as variáveis;\n",
    "5) Avaliar a necessidade de realizar o balanceamento da variável alvo;\n",
    "6) Tratar variáveis com alta correlação;\n",
    "7) Realizar a seleção de variáveis;\n",
    "8) Aplicar um modelo de regressão ou classificação utilizando uma técnica de hiperparametrização automática;\n",
    "9) Aplicar uma medida de avaliação do modelo.\n",
    "10) Gerar uma visualização para o resultado de acordo com os tipos abaixo:\n",
    "    - Agrupamento: gerar a visualização Scatter;\n",
    "    - Classificação: gerar a matriz de confusão; \n",
    "    - Regressão: gerar a visualização da linha de saída."
   ]
  },
  {
   "cell_type": "markdown",
   "metadata": {},
   "source": [
    "### Leitura dos dados"
   ]
  },
  {
   "cell_type": "code",
   "execution_count": null,
   "metadata": {},
   "outputs": [],
   "source": [
    "# Somente rodar se necessário\n",
    "# Descomente a linha a baixo para rodar!\n",
    "\n",
    "# %pip install googletrans==4.0.0-rc1"
   ]
  },
  {
   "cell_type": "code",
   "execution_count": null,
   "metadata": {},
   "outputs": [],
   "source": [
    "#IMPORT E INSTALL AS BIBLIOTECAS IMPORTANTES\n",
    "import numpy as np\n",
    "import pandas as pd\n",
    "from sklearn.preprocessing import OneHotEncoder\n",
    "import matplotlib.pyplot as plt\n",
    "import seaborn as sns\n",
    "import ppscore as pps\n",
    "from googletrans import Translator # Precisa do pacote do pip install"
   ]
  },
  {
   "cell_type": "code",
   "execution_count": null,
   "metadata": {},
   "outputs": [],
   "source": [
    "caminho = 'Data/Bike-day.csv'\n",
    "df = pd.read_csv(caminho)"
   ]
  },
  {
   "cell_type": "markdown",
   "metadata": {},
   "source": [
    "### Tratamento dos dados"
   ]
  },
  {
   "cell_type": "markdown",
   "metadata": {},
   "source": [
    "#### Tradução "
   ]
  },
  {
   "cell_type": "code",
   "execution_count": null,
   "metadata": {},
   "outputs": [],
   "source": [
    "def traduzir_colunas(df, language='pt'):\n",
    "    #Dicionario para as palavras que não foram traduzidas ou que foram traduzidas erroneamente \n",
    "    erro_ao_traduzir = {\n",
    "        'dteday': 'Data',\n",
    "        'mnth': 'Mês',\n",
    "        'weathersit': 'Clima',\n",
    "        'temp': 'Temperatura (C°)',\n",
    "        'hum': 'Umidade',\n",
    "        'windspeed': 'Velocidade do Vento',\n",
    "        'registered': 'Registrados',\n",
    "        'cnt': 'Contador (Casual e Registrados)',\n",
    "        'atemp': 'Sensação térmica'\n",
    "    }\n",
    "    \n",
    "    # Renomear as colunas\n",
    "    traducoes = {}\n",
    "    tradutor = Translator()\n",
    "    for coluna in df.columns:\n",
    "        try:\n",
    "            if coluna in erro_ao_traduzir:\n",
    "                traducoes[coluna] = erro_ao_traduzir[coluna] # Utilize a tradução personalizada\n",
    "            else:\n",
    "                traduzido = tradutor.translate(coluna, src='en', dest=language) # Tradução acontece aqui\n",
    "                if traduzido and traduzido.text:\n",
    "                    capslock = traduzido.text.capitalize() # Maiúscula na primeira letra de cada palavra\n",
    "\n",
    "                    traducoes[coluna] = capslock\n",
    "                else:\n",
    "                    print(f\"Erro ao traduzir a coluna '{coluna}': tradução retornou None ou texto vazio\")\n",
    "                    traducoes[coluna] = coluna # Manter o nome original em caso de erro\n",
    "        except Exception as a:\n",
    "            print(f\"Erro ao traduzir a coluna '{coluna}': {a}\")\n",
    "            traducoes[coluna] = coluna # Manter o nome original em caso de erro\n",
    "\n",
    "    df.columns = [traducoes.get(col, col) for col in df.columns]"
   ]
  },
  {
   "cell_type": "code",
   "execution_count": null,
   "metadata": {},
   "outputs": [],
   "source": [
    "#EXECUTA A FUNÇÃO DE TRADUÇÃO\n",
    "df_traduzido = df.copy()\n",
    "traduzir_colunas(df_traduzido)\n",
    "df_traduzido.head(5)"
   ]
  },
  {
   "cell_type": "code",
   "execution_count": null,
   "metadata": {},
   "outputs": [],
   "source": [
    "#REMOVE O INDEXADOR DA PLANILHA\n",
    "df_traduzido = df_traduzido.drop(columns=['Instante'])\n",
    "df_traduzido.head(5)"
   ]
  },
  {
   "cell_type": "code",
   "execution_count": null,
   "metadata": {},
   "outputs": [],
   "source": [
    "#RENOMEANDO OS VALORES NUMERICOS PARA ESTAÇÕES DO ANO (season : season (1:winter, 2:spring, 3:summer, 4:fall)) e Ano  (yr : year (0: 2011, 1:2012))\n",
    "\n",
    "if 'Temporada' in df_traduzido.columns:\n",
    "        df_traduzido['Temporada'] = df_traduzido['Temporada'].replace({1: 'Inverno', 2: 'Primavera', 3: 'Verão', 4: 'Outono'})\n",
    "\n",
    "if 'Ano' in df_traduzido.columns:\n",
    "        df_traduzido['Ano'] = df_traduzido['Ano'].replace({0: '2011', 1: '2012'})\n",
    "df_traduzido.head(5)"
   ]
  },
  {
   "cell_type": "markdown",
   "metadata": {},
   "source": [
    "#### Informações gerais do dataset"
   ]
  },
  {
   "cell_type": "code",
   "execution_count": null,
   "metadata": {},
   "outputs": [],
   "source": [
    "df_traduzido.describe()"
   ]
  },
  {
   "cell_type": "code",
   "execution_count": null,
   "metadata": {},
   "outputs": [],
   "source": [
    "df_traduzido.info()"
   ]
  },
  {
   "cell_type": "markdown",
   "metadata": {},
   "source": [
    "### Análise Descritiva dos dados\n",
    "\n",
    "Gerar tabelas sobre o data set: (gráfico de barras, colunas, linha, etc)\n",
    "\n",
    "- relação mês x aluguel - guzinho\n",
    "- relação temperatura x aluguel - guzinho\n",
    "\n",
    "- concorrência de casual x registrado - vitinho\n",
    "- Qual é o impacto dos dias úteis e feriados no uso de bicicletas? - marcelo"
   ]
  },
  {
   "cell_type": "markdown",
   "metadata": {},
   "source": [
    "#### Relação season x aluguel - Allan"
   ]
  },
  {
   "cell_type": "code",
   "execution_count": null,
   "metadata": {},
   "outputs": [],
   "source": [
    "# Gerando o gráfico de análise descritiva\n",
    "contador_temporada_X_Aluguel = df_traduzido.groupby('Temporada')['Contador (Casual e Registrados)'].sum()\n",
    "\n",
    "plt.figure(figsize=(8, 5))\n",
    "contador_temporada_X_Aluguel.plot(kind='bar', color='skyblue')\n",
    "plt.title('Total de Aluguel de Bicicletas por Temporada')\n",
    "plt.xlabel('Temporada')\n",
    "plt.ylabel('Total de Aluguel (Contador)')\n",
    "plt.xticks(rotation=0)\n",
    "plt.grid(axis='y')"
   ]
  },
  {
   "cell_type": "code",
   "execution_count": null,
   "metadata": {},
   "outputs": [],
   "source": [
    "# Mostrar o gráfico\n",
    "plt.show()"
   ]
  },
  {
   "cell_type": "code",
   "execution_count": null,
   "metadata": {},
   "outputs": [],
   "source": [
    "# Identificar as top temporadas com o maior número de aluguéis\n",
    "top_temporadas = contador_temporada_X_Aluguel.sort_values(ascending=False).head(4)\n",
    "for i, (temporada, total) in enumerate(top_temporadas.items(), start=1):\n",
    "    print(f'Top {i}: {temporada} com {total} aluguéis')"
   ]
  },
  {
   "cell_type": "markdown",
   "metadata": {},
   "source": []
  },
  {
   "cell_type": "code",
   "execution_count": null,
   "metadata": {},
   "outputs": [],
   "source": []
  },
  {
   "cell_type": "code",
   "execution_count": null,
   "metadata": {},
   "outputs": [],
   "source": []
  },
  {
   "cell_type": "markdown",
   "metadata": {},
   "source": [
    "### Análise de correlação de variáveis - Marcelo\n",
    "\n",
    "rodar ppscore pra ver no que da"
   ]
  },
  {
   "cell_type": "code",
   "execution_count": null,
   "metadata": {},
   "outputs": [],
   "source": [
    "sns.heatmap(df.corr(), annot = True)"
   ]
  },
  {
   "cell_type": "markdown",
   "metadata": {},
   "source": [
    "### Modelos de Regressão Linear\n",
    "\n",
    "- Regressão linear - murilo\n",
    "- Lasso - murilo\n",
    "- Elastic Net - vitinho\n",
    "- Regressão Ridge - vitinho"
   ]
  },
  {
   "cell_type": "code",
   "execution_count": null,
   "metadata": {},
   "outputs": [],
   "source": [
    "print(\"teste\")"
   ]
  },
  {
   "cell_type": "code",
   "execution_count": null,
   "metadata": {},
   "outputs": [],
   "source": []
  }
 ],
 "metadata": {
  "kernelspec": {
   "display_name": "base",
   "language": "python",
   "name": "python3"
  },
  "language_info": {
   "codemirror_mode": {
    "name": "ipython",
    "version": 3
   },
   "file_extension": ".py",
   "mimetype": "text/x-python",
   "name": "python",
   "nbconvert_exporter": "python",
   "pygments_lexer": "ipython3",
   "version": "3.11.7"
  }
 },
 "nbformat": 4,
 "nbformat_minor": 2
}

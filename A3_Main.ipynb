{
 "cells": [
  {
   "cell_type": "markdown",
   "metadata": {},
   "source": [
    "## Perguntas"
   ]
  },
  {
   "cell_type": "markdown",
   "metadata": {},
   "source": [
    "1) Correlação das variaveis\n",
    "2) Qual estilo de jogo é mais provavel de se ter melhores vendas?\n",
    "3) Qual plataforma é provavel de se ter melhores vendas?\n",
    "4)  Aplicar um modelo de regressão ou classificação utilizando uma técnica de hiperparametrização automática;</br>\n",
    "5)  Aplicar uma medida de avaliação do modelo.\n",
    "6)  Agrupamento: gerar a visualização Scatter\n",
    "7)  Classificação: gerar a matriz de confusão\n",
    "8)  Regressão: gerar a visualização da linha de saída"
   ]
  },
  {
   "cell_type": "markdown",
   "metadata": {},
   "source": []
  }
 ],
 "metadata": {
  "kernelspec": {
   "display_name": "base",
   "language": "python",
   "name": "python3"
  },
  "language_info": {
   "name": "python",
   "version": "3.11.7"
  }
 },
 "nbformat": 4,
 "nbformat_minor": 2
}

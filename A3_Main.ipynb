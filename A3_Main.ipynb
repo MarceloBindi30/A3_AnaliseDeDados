{
 "cells": [
  {
   "cell_type": "markdown",
   "metadata": {},
   "source": [
    "## Perguntas"
   ]
  },
  {
   "cell_type": "markdown",
   "metadata": {},
   "source": [
    "1) Carregar e ler arquivos .csv, xlsx ou de um banco de dados;\n",
    "2) Avaliar a necessidade da transformação da variável em outra escala (agrupar idade por faixas, por exemplo);\n",
    "3) Realizar a codificação das variáveis categóricas de acordo com os valores das variáveis (label encoder, one hot encoder ou target encoder);\n",
    "4) Normalizar as variáveis;\n",
    "5) Avaliar a necessidade de realizar o balanceamento da variável alvo;\n",
    "6) Tratar variáveis com alta correlação;\n",
    "7) Realizar a seleção de variáveis;\n",
    "8) Aplicar um modelo de regressão ou classificação utilizando uma técnica de hiperparametrização automática;\n",
    "9) Aplicar uma medida de avaliação do modelo.\n",
    "10) Gerar uma visualização para o resultado de acordo com os tipos abaixo:\n",
    "    - Agrupamento: gerar a visualização Scatter;\n",
    "    - Classificação: gerar a matriz de confusão; \n",
    "    - Regressão: gerar a visualização da linha de saída.\n"
   ]
  },
  {
   "cell_type": "markdown",
   "metadata": {},
   "source": [
    "### Leitura dos dados"
   ]
  },
  {
   "cell_type": "code",
   "execution_count": null,
   "metadata": {},
   "outputs": [],
   "source": [
    "# Somente rodar se necessário\n",
    "# Descomente a linha a baixo para rodar!\n",
    "\n",
    "# %pip install googletrans==4.0.0-rc1"
   ]
  },
  {
   "cell_type": "code",
   "execution_count": 1,
   "metadata": {},
   "outputs": [],
   "source": [
    "#IMPORT E INSTALL AS BIBLIOTECAS IMPORTANTES\n",
    "import numpy as np\n",
    "import pandas as pd\n",
    "from sklearn.preprocessing import OneHotEncoder\n",
    "import matplotlib.pyplot as plt\n",
    "import seaborn as sns\n",
    "import ppscore as pps\n",
    "from googletrans import Translator # Precisa do pacote do pip install"
   ]
  },
  {
   "cell_type": "code",
   "execution_count": null,
   "metadata": {},
   "outputs": [],
   "source": [
    "caminho = 'Data/Bike-day.csv'\n",
    "df = pd.read_csv(caminho)"
   ]
  },
  {
   "cell_type": "markdown",
   "metadata": {},
   "source": [
    "### Tratamento dos dados"
   ]
  },
  {
   "cell_type": "markdown",
   "metadata": {},
   "source": [
    "#### Tradução - allan"
   ]
  },
  {
   "cell_type": "code",
   "execution_count": null,
   "metadata": {},
   "outputs": [],
   "source": [
    "def traduzir_colunas(df, language='pt'):\n",
    "\n",
    "    # Função para traduzir uma lista de gêneros\n",
    "    def traduzir_generos(generos, language='pt'):\n",
    "        tradutor = Translator()\n",
    "        traducoes = {}\n",
    "        \n",
    "        falha_ao_traduzir = {\n",
    "            'shooter': 'Jogos de Tiro'\n",
    "        }\n",
    "\n",
    "        for genero in generos:\n",
    "            try:\n",
    "                genero_minusculo = genero.lower()\n",
    "                if genero_minusculo in falha_ao_traduzir:\n",
    "                    traducoes[genero] = falha_ao_traduzir[genero_minusculo].capitalize() # Utilize a tradução personalizada\n",
    "                else:\n",
    "                    traduzido = tradutor.translate(genero, src='en', dest=language)\n",
    "                    if traduzido and traduzido.text:\n",
    "                        capslock = traduzido.text.capitalize()  # Maiúscula na primeira letra de cada palavra\n",
    "                        traducoes[genero] = capslock\n",
    "                        #print(f\"'{genero}' traduzido para '{capslock}'\")  # Debug: Mostrar a tradução\n",
    "                    else:\n",
    "                        print(f\"Erro ao traduzir o genero '{genero}': tradução retornou None ou texto vazio\")\n",
    "                        traducoes[genero] = genero  # Manter o nome original em caso de erro\n",
    "            except Exception as e:\n",
    "                print(f\"Erro ao traduzir o genero '{genero}': {e}\")\n",
    "                traducoes[genero] = genero  # Manter o nome original em caso de erro\n",
    "\n",
    "        return traducoes\n",
    "    \n",
    "    # Renomear as colunas\n",
    "    traducoes = {}\n",
    "    falha_ao_traduzir = {\n",
    "        'publisher': 'Editora',\n",
    "        'developer': 'Desenvolvedora',\n",
    "        'na_sales': 'Vendas_na',\n",
    "        'jp_sales': 'Vendas_jp',\n",
    "        'pal_sales': 'Vendas_pal',\n",
    "        'other_sales': 'Vendas_demais_regiões',\n",
    "        'critic_score': 'Pontuação_Geral'\n",
    "    }\n",
    "    tradutor = Translator()  # Correção aqui\n",
    "    for coluna in df.columns:\n",
    "        try:\n",
    "            coluna_minuscula = coluna.lower()\n",
    "            if coluna_minuscula in falha_ao_traduzir:\n",
    "                traducoes[coluna] = falha_ao_traduzir[coluna_minuscula].capitalize()  # Utilize a tradução personalizada\n",
    "            else:\n",
    "                traduzido = tradutor.translate(coluna, src='en', dest=language)  # Correção aqui\n",
    "                if traduzido and traduzido.text:\n",
    "                    capslock = traduzido.text.capitalize()  # Maiuscula na primeira letra de cada palavra\n",
    "                    traducoes[coluna] = capslock\n",
    "                else:\n",
    "                    print(f\"Erro ao traduzir a coluna '{coluna}': tradução retornou None ou texto vazio\")\n",
    "                    traducoes[coluna] = coluna  # Manter o nome original em caso de erro\n",
    "        except Exception as e:\n",
    "            print(f\"Erro ao traduzir a coluna '{coluna}': {e}\")\n",
    "            traducoes[coluna] = coluna  # Manter o nome original em caso de erro\n",
    "    \n",
    "    df.columns = [traducoes.get(col, col) for col in df.columns]\n",
    "    \n",
    "    # Traduzir a coluna 'Gênero'\n",
    "    if 'Gênero' in df.columns:\n",
    "        generos = df['Gênero'].unique()\n",
    "        genero_traduzido = traduzir_generos(generos, language)\n",
    "        df['Gênero'] = df['Gênero'].map(genero_traduzido)"
   ]
  },
  {
   "cell_type": "code",
   "execution_count": null,
   "metadata": {},
   "outputs": [],
   "source": [
    "#EXECUTA A FUNÇÃO DE TRADUÇÃO\n",
    "traduzir_colunas(df)\n",
    "df.head(5)"
   ]
  },
  {
   "cell_type": "markdown",
   "metadata": {},
   "source": [
    "#### Informações gerais do dataset"
   ]
  },
  {
   "cell_type": "code",
   "execution_count": null,
   "metadata": {},
   "outputs": [],
   "source": [
    "df.info()"
   ]
  },
  {
   "cell_type": "code",
   "execution_count": null,
   "metadata": {},
   "outputs": [],
   "source": [
    "df.describe()"
   ]
  },
  {
   "cell_type": "markdown",
   "metadata": {},
   "source": [
    "### Análise Descritiva dos dados\n",
    "\n",
    "Gerar tabelas sobre o data set: (gráfico de barras, colunas, linha, etc)\n",
    "\n",
    "- relação mês x aluguel - guzinho\n",
    "- relação temperatura x aluguel - guzinho\n",
    "- relação season x aluguel - allan\n",
    "- concorrência de casual x registrado - vitinho\n",
    "- Qual é o impacto dos dias úteis e feriados no uso de bicicletas? - marcelo"
   ]
  },
  {
   "cell_type": "code",
   "execution_count": null,
   "metadata": {},
   "outputs": [],
   "source": []
  },
  {
   "cell_type": "markdown",
   "metadata": {},
   "source": [
    "### Análise de correlação de variáveis - Marcelo\n",
    "\n",
    "rodar ppscore pra ver no que da"
   ]
  },
  {
   "cell_type": "code",
   "execution_count": null,
   "metadata": {},
   "outputs": [],
   "source": [
    "sns.heatmap(df.corr(), annot = True)"
   ]
  },
  {
   "cell_type": "markdown",
   "metadata": {},
   "source": [
    "### Modelos de Regressão Linear\n",
    "\n",
    "- Regressão linear - murilo\n",
    "- Lasso - murilo\n",
    "- Elastic Net - vitinho\n",
    "- Regressão Ridge - vitinho"
   ]
  },
  {
   "cell_type": "code",
   "execution_count": null,
   "metadata": {},
   "outputs": [],
   "source": []
  },
  {
   "cell_type": "code",
   "execution_count": null,
   "metadata": {},
   "outputs": [],
   "source": []
  }
 ],
 "metadata": {
  "kernelspec": {
   "display_name": "base",
   "language": "python",
   "name": "python3"
  },
  "language_info": {
   "codemirror_mode": {
    "name": "ipython",
    "version": 3
   },
   "file_extension": ".py",
   "mimetype": "text/x-python",
   "name": "python",
   "nbconvert_exporter": "python",
   "pygments_lexer": "ipython3",
   "version": "3.11.7"
  }
 },
 "nbformat": 4,
 "nbformat_minor": 2
}

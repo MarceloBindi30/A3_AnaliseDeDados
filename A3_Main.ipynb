{
 "cells": [
  {
   "cell_type": "markdown",
   "metadata": {},
   "source": [
    "## Perguntas"
   ]
  },
  {
   "cell_type": "markdown",
   "metadata": {},
   "source": [
    "1) Correlação das variaveis\n",
    "2) Qual estilo de jogo é mais provavel de se ter melhores vendas? (Predição)\n",
    "3) Qual plataforma é provavel de se ter melhores vendas? (Predição)\n",
    "4)  Aplicar um modelo de regressão ou classificação utilizando uma técnica de hiperparametrização automática;</br>\n",
    "5)  Aplicar uma medida de avaliação do modelo.\n",
    "6)  Agrupamento: gerar a visualização Scatter\n",
    "7)  Classificação: gerar a matriz de confusão\n",
    "8)  Regressão: gerar a visualização da linha de saída"
   ]
  },
  {
   "cell_type": "markdown",
   "metadata": {},
   "source": [
    "### Consoles para analise\n",
    "\n",
    "Wii     PS3     XBox360\n",
    "WiiU    PS4     XOne"
   ]
  },
  {
   "cell_type": "code",
   "execution_count": null,
   "metadata": {},
   "outputs": [],
   "source": [
    "# Somente rodar se necessário\n",
    "# Descomente a linha a baixo para rodar!\n",
    "\n",
    "# %pip install googletrans==4.0.0-rc1"
   ]
  },
  {
   "cell_type": "code",
   "execution_count": null,
   "metadata": {},
   "outputs": [],
   "source": [
    "#IMPORT E INSTALL AS BIBLIOTECAS IMPORTANTES\n",
    "import numpy as np\n",
    "import pandas as pd \n",
    "import matplotlib.pyplot as plt\n",
    "from googletrans import Translator # Precisa do pacote do pip install"
   ]
  },
  {
   "cell_type": "code",
   "execution_count": null,
   "metadata": {},
   "outputs": [],
   "source": [
    "caminho = 'Data/vgchartz-2024.csv'\n",
    "jogos = pd.read_csv(caminho)"
   ]
  },
  {
   "cell_type": "code",
   "execution_count": null,
   "metadata": {},
   "outputs": [],
   "source": [
    "jogos_tratados = jogos.drop(columns=['img','last_update'])\n",
    "jogos_tratados.head(3)"
   ]
  },
  {
   "cell_type": "code",
   "execution_count": null,
   "metadata": {},
   "outputs": [],
   "source": [
    "#TRADUZIR OS NOMES EM INGLES PARA PT-BR\n",
    "\n",
    "def traduzir_colunas(df, language='pt'):\n",
    "    translator = Translator()\n",
    "    traducoes = {}\n",
    "    falha_ao_traduzir = {\n",
    "        'publisher': 'Editora',\n",
    "        'developer': 'Desenvolvedora',\n",
    "        'na_sales': 'Vendas_na',\n",
    "        'jp_sales': 'Vendas_jp',\n",
    "        'pal_sales': 'Vendas_pal',\n",
    "        'other_sales': 'Vendas_demais_regiões',\n",
    "        'critic_score': 'Pontuação_Geral'\n",
    "    }\n",
    "    # Traduzir todas as colunas\n",
    "    for column in df.columns:\n",
    "        try:\n",
    "            if column.lower() in falha_ao_traduzir:\n",
    "                traducoes[column] = falha_ao_traduzir[column.lower()].capitalize()  # Utilize a tradução personalizada\n",
    "            else:\n",
    "                translated = translator.translate(column, src='en', dest=language)\n",
    "                capslock = translated.text.capitalize()  # Maiuscula na primeira letra de cada palavra\n",
    "                traducoes[column] = capslock\n",
    "        except Exception as e:\n",
    "            print(f\"Erro ao traduzir a coluna '{column}': {e}\")\n",
    "            traducoes[column] = column  # Manter o nome original em caso de erro\n",
    "    df.columns = [traducoes.get(col, col) for col in df.columns]"
   ]
  },
  {
   "cell_type": "code",
   "execution_count": null,
   "metadata": {},
   "outputs": [],
   "source": [
    "#EXECUTA A FUNÇÃO DE TRADUÇÃO\n",
    "traduzir_colunas(jogos_tratados)\n",
    "jogos_tratados.head(3)"
   ]
  },
  {
   "cell_type": "code",
   "execution_count": null,
   "metadata": {},
   "outputs": [],
   "source": [
    "# Contagem dos lavores zerados no df tratado\n",
    "jogos_tratados.isna().sum()"
   ]
  },
  {
   "cell_type": "code",
   "execution_count": null,
   "metadata": {},
   "outputs": [],
   "source": [
    "# Separação de valores ausentes para análise\n",
    "valores_ausentes = jogos_tratados[jogos_tratados['Desenvolvedora'].isna()]\n",
    "valores_ausentes.head(18)"
   ]
  },
  {
   "cell_type": "code",
   "execution_count": null,
   "metadata": {},
   "outputs": [],
   "source": [
    "# Separação dos consoles que pretendemos trabalhar\n",
    "consoles = ('PS3','PS4','X360','XOne','Wii','WiiU')\n",
    "jogos_tratados = jogos_tratados[(jogos_tratados['Console'].isin(consoles))]\n",
    "jogos_tratados.reset_index()\n",
    "jogos_tratados.isna().sum()"
   ]
  },
  {
   "cell_type": "code",
   "execution_count": null,
   "metadata": {},
   "outputs": [],
   "source": [
    "# Visualização das infos tratadas\n",
    "jogos_tratados.info()"
   ]
  },
  {
   "cell_type": "code",
   "execution_count": null,
   "metadata": {},
   "outputs": [],
   "source": [
    "# Visualização das infos tratadas\n",
    "jogos_tratados.groupby(['Console'])['Console'].count()"
   ]
  },
  {
   "cell_type": "code",
   "execution_count": null,
   "metadata": {},
   "outputs": [],
   "source": [
    "# Visualização das infos tratadas\n",
    "jogos_NA = jogos_tratados.groupby('Console').apply(lambda x: x.isna().sum())\n",
    "jogos_NA.head(6)"
   ]
  },
  {
   "cell_type": "code",
   "execution_count": null,
   "metadata": {},
   "outputs": [],
   "source": []
  }
 ],
 "metadata": {
  "kernelspec": {
   "display_name": "base",
   "language": "python",
   "name": "python3"
  },
  "language_info": {
   "codemirror_mode": {
    "name": "ipython",
    "version": 3
   },
   "file_extension": ".py",
   "mimetype": "text/x-python",
   "name": "python",
   "nbconvert_exporter": "python",
   "pygments_lexer": "ipython3",
   "version": "3.11.7"
  }
 },
 "nbformat": 4,
 "nbformat_minor": 2
}
